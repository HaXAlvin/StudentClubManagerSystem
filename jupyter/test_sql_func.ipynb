{
 "cells": [
  {
   "cell_type": "code",
   "execution_count": null,
   "metadata": {},
   "outputs": [],
   "source": [
    "import pymysql\n",
    "conn = pymysql.connect(\n",
    "    host='localhost',\n",
    "    port=3306,\n",
    "    user='root',\n",
    "    passwd='0000',\n",
    "    db='iosclub',\n",
    "    charset='utf8mb4',\n",
    ")"
   ]
  },
  {
   "cell_type": "code",
   "execution_count": null,
   "metadata": {},
   "outputs": [],
   "source": [
    "with conn.cursor() as cursor:\n",
    "    sql = 'select * from memberlist' \n",
    "    cursor.execute(sql)\n",
    "    results = cursor.fetchall()\n",
    "    for i in results:\n",
    "        print(i)"
   ]
  },
  {
   "cell_type": "code",
   "execution_count": null,
   "metadata": {},
   "outputs": [],
   "source": [
    "with conn.cursor() as cursor:\n",
    "    sql = 'insert into memberList (member_name, member_nid, submission_date) VALUES (%s, %s, now())' \n",
    "    val = ['YOZN', 'D06539217']\n",
    "    cursor.execute(sql, val)\n",
    "    results = cursor.fetchall()\n",
    "    conn.commit()\n",
    "    print(results)"
   ]
  },
  {
   "cell_type": "code",
   "execution_count": null,
   "metadata": {},
   "outputs": [],
   "source": []
  },
  {
   "cell_type": "code",
   "execution_count": null,
   "metadata": {},
   "outputs": [
    {
     "name": "stdin",
     "output_type": "stream",
     "text": [
      "請輸入姓名： test22\n",
      "請輸入學號(大寫英文)： d0843134\n"
     ]
    }
   ],
   "source": [
    "newMember = [input(\"請輸入姓名：\"), input(\"請輸入學號(大寫英文)：\").upper()]\n",
    "cursor = conn.cursor()\n",
    "cursor.execute(\"DELETE FROM memberList WHERE member_id >= 2;\")\n",
    "cursor.execute(\"ALTER TABLE memberList AUTO_INCREMENT = 2\")\n",
    "cursor.executemany(\"insert into memberList(member_name,member_nid,submission_date)value(%s,%s,now())\",\n",
    "                   [(newMember[0], newMember[1])])\n",
    "cursor.execute(\"select * from memberList\")\n",
    "for i in cursor.fetchall():\n",
    "    print(i)\n",
    "# 提交\n",
    "conn.commit()\n",
    "# 關閉遊標\n",
    "cursor.close()\n",
    "# 關閉連線\n",
    "conn.close()"
   ]
  },
  {
   "cell_type": "code",
   "execution_count": null,
   "metadata": {},
   "outputs": [],
   "source": []
  }
 ],
 "metadata": {
  "kernelspec": {
   "display_name": "Python 3",
   "language": "python",
   "name": "python3"
  },
  "language_info": {
   "codemirror_mode": {
    "name": "ipython",
    "version": 3
   },
   "file_extension": ".py",
   "mimetype": "text/x-python",
   "name": "python",
   "nbconvert_exporter": "python",
   "pygments_lexer": "ipython3",
   "version": "3.8.0"
  }
 },
 "nbformat": 4,
 "nbformat_minor": 4
}
